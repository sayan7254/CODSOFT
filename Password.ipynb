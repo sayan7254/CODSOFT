{
 "cells": [
  {
   "cell_type": "code",
   "execution_count": 1,
   "id": "c6444f68-f5fb-4ba4-b11c-0613b89550d6",
   "metadata": {},
   "outputs": [
    {
     "name": "stdin",
     "output_type": "stream",
     "text": [
      "Enter the desired password length:  10\n"
     ]
    },
    {
     "name": "stdout",
     "output_type": "stream",
     "text": [
      "Generated Password: T+>5SBZE@G\n"
     ]
    }
   ],
   "source": [
    "import random\n",
    "import string\n",
    "\n",
    "def generate_password(length):\n",
    "    if length < 4:\n",
    "        return \"Password length should be at least 4.\"\n",
    "    \n",
    "    # Define character sets\n",
    "    letters = string.ascii_letters\n",
    "    digits = string.digits\n",
    "    symbols = string.punctuation\n",
    "    \n",
    "    # Combine all characters\n",
    "    all_chars = letters + digits + symbols\n",
    "    \n",
    "    # Ensure at least one character from each set\n",
    "    password = [\n",
    "        random.choice(letters),\n",
    "        random.choice(digits),\n",
    "        random.choice(symbols)\n",
    "    ]\n",
    "    \n",
    "    # Fill the rest of the password length\n",
    "    password += random.choices(all_chars, k=length - 3)\n",
    "    \n",
    "    # Shuffle the password to ensure randomness\n",
    "    random.shuffle(password)\n",
    "    \n",
    "    return ''.join(password)\n",
    "\n",
    "# User input\n",
    "try:\n",
    "    length = int(input(\"Enter the desired password length: \"))\n",
    "    print(\"Generated Password:\", generate_password(length))\n",
    "except ValueError:\n",
    "    print(\"Please enter a valid number.\")"
   ]
  },
  {
   "cell_type": "code",
   "execution_count": null,
   "id": "a3087d22-4c8e-49d8-aec9-649450da0f1c",
   "metadata": {},
   "outputs": [],
   "source": []
  }
 ],
 "metadata": {
  "kernelspec": {
   "display_name": "Python 3 (ipykernel)",
   "language": "python",
   "name": "python3"
  },
  "language_info": {
   "codemirror_mode": {
    "name": "ipython",
    "version": 3
   },
   "file_extension": ".py",
   "mimetype": "text/x-python",
   "name": "python",
   "nbconvert_exporter": "python",
   "pygments_lexer": "ipython3",
   "version": "3.12.4"
  }
 },
 "nbformat": 4,
 "nbformat_minor": 5
}
