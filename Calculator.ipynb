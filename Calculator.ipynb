{
 "cells": [
  {
   "cell_type": "code",
   "execution_count": 3,
   "id": "9f15de50-bd1f-4953-b0a6-acffef72656c",
   "metadata": {},
   "outputs": [
    {
     "name": "stdout",
     "output_type": "stream",
     "text": [
      "Select Operation\n",
      "1-Add\n",
      "2-Substraction\n",
      "3-Multiply\n",
      "4-Divide\n"
     ]
    },
    {
     "name": "stdin",
     "output_type": "stream",
     "text": [
      "Enter the choice(1/2/3/4): 1\n",
      "Enter the First number 45\n",
      "Enter the second number 56\n"
     ]
    },
    {
     "name": "stdout",
     "output_type": "stream",
     "text": [
      "45.0 + 56.0 = 101.0\n"
     ]
    },
    {
     "name": "stdin",
     "output_type": "stream",
     "text": [
      "Let's do next calculation?(yes/no) yes\n",
      "Enter the choice(1/2/3/4): 2\n",
      "Enter the First number 56\n",
      "Enter the second number 10\n"
     ]
    },
    {
     "name": "stdout",
     "output_type": "stream",
     "text": [
      "56.0 - 10.0 = 46.0\n"
     ]
    },
    {
     "name": "stdin",
     "output_type": "stream",
     "text": [
      "Let's do next calculation?(yes/no) yes\n",
      "Enter the choice(1/2/3/4): 3\n",
      "Enter the First number 9\n",
      "Enter the second number 3\n"
     ]
    },
    {
     "name": "stdout",
     "output_type": "stream",
     "text": [
      "9.0 * 3.0 = 27.0\n"
     ]
    },
    {
     "name": "stdin",
     "output_type": "stream",
     "text": [
      "Let's do next calculation?(yes/no) yes\n",
      "Enter the choice(1/2/3/4): 4\n",
      "Enter the First number 9\n",
      "Enter the second number 3\n"
     ]
    },
    {
     "name": "stdout",
     "output_type": "stream",
     "text": [
      "9.0 / 3.0 = 3.0\n"
     ]
    },
    {
     "name": "stdin",
     "output_type": "stream",
     "text": [
      "Let's do next calculation?(yes/no) no\n"
     ]
    }
   ],
   "source": [
    "def add(x,y):\n",
    "    return x+y\n",
    "def subs(x,y):\n",
    "    return x-y\n",
    "def multiply(x,y):\n",
    "    return x*y\n",
    "def divide(x,y):\n",
    "    return x/y\n",
    "print(\"Select Operation\")\n",
    "print(\"1-Add\")\n",
    "print(\"2-Substraction\")\n",
    "print(\"3-Multiply\")\n",
    "print(\"4-Divide\")\n",
    "while True:\n",
    "    choice=input('Enter the choice(1/2/3/4):')\n",
    "    if choice in ('1','2','3','4'):\n",
    "      try:  \n",
    "        num1=float(input('Enter the First number'))\n",
    "        num2=float(input('Enter the second number'))\n",
    "      except ValueError:\n",
    "        print('Invalid input.Please enter a valid number')\n",
    "        continue\n",
    "      if choice == '1':\n",
    "        print(num1,'+',num2,'=',add(num1,num2))\n",
    "      elif choice == '2':\n",
    "        print(num1,'-',num2,'=',subs(num1,num2))\n",
    "      elif choice == '3':\n",
    "        print(num1,'*',num2,'=',multiply(num1,num2))\n",
    "      elif choice == '4':\n",
    "        print(num1,'/',num2,'=',divide(num1,num2))\n",
    "      next_calculation=input(\"Let's do next calculation?(yes/no)\")\n",
    "      if next_calculation == 'no':\n",
    "         break\n",
    "      \n",
    "                        "
   ]
  },
  {
   "cell_type": "code",
   "execution_count": null,
   "id": "ca6d84ec-7e71-4f99-ace7-c32191fe2a92",
   "metadata": {},
   "outputs": [],
   "source": []
  }
 ],
 "metadata": {
  "kernelspec": {
   "display_name": "Python 3 (ipykernel)",
   "language": "python",
   "name": "python3"
  },
  "language_info": {
   "codemirror_mode": {
    "name": "ipython",
    "version": 3
   },
   "file_extension": ".py",
   "mimetype": "text/x-python",
   "name": "python",
   "nbconvert_exporter": "python",
   "pygments_lexer": "ipython3",
   "version": "3.12.4"
  }
 },
 "nbformat": 4,
 "nbformat_minor": 5
}
